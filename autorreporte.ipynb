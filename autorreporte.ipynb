{
 "cells": [
  {
   "cell_type": "code",
   "execution_count": 29,
   "metadata": {},
   "outputs": [],
   "source": [
    "import numpy as np\n",
    "import pandas as pd\n",
    "\n",
    "from pptx import Presentation\n",
    "\n",
    "from funs.areas import *\n",
    "from funs.car import *\n",
    "from funs.conclusiones import conclusiones\n",
    "from funs.correlacion import *\n",
    "from funs.diapo import *\n",
    "from funs.dimensiones import *\n",
    "from funs.imp_rel import dict_ir\n",
    "from funs.items import *\n",
    "from funs.linea import *\n",
    "from funs.otros import *\n",
    "from funs.porcent import *\n",
    "from funs.tri_count import tri_count\n",
    "\n",
    "from data.texto.dimensiones import dict_dims\n",
    "from data.texto.conclusiones import dict_c_pos, dict_c_neg \n",
    "from data.texto.items import dict_items"
   ]
  },
  {
   "attachments": {},
   "cell_type": "markdown",
   "metadata": {},
   "source": [
    "### __Versiones de los paquetes (15/12/2022)__\n",
    "\n",
    "- Numpy = 1.23.5\n",
    "- Pandas = 1.5.2\n",
    "- pptx = 0.6.21"
   ]
  },
  {
   "attachments": {},
   "cell_type": "markdown",
   "metadata": {},
   "source": [
    "### __Creación DF__"
   ]
  },
  {
   "cell_type": "code",
   "execution_count": 30,
   "metadata": {},
   "outputs": [],
   "source": [
    "df_par = pd.read_excel('data/2022/df_2022.xlsx', sheet_name='participantes_1', index_col='token')\n",
    "df_res = pd.read_excel('data/2022/df_2022.xlsx', sheet_name='respuestas_lime', index_col='token')\n",
    "df_imp = pd.read_excel('data/2022/df_2022.xlsx', sheet_name='importancia_relativa', index_col='token')\n",
    "df_asi = pd.read_excel('data/2022/df_2022.xlsx', sheet_name='tasa_respuesta', index_col='areas')\n",
    "df_mide = pd.read_excel('data/estudios_pasados.xlsx')\n",
    "df_dims_mean = pd.read_excel('data/2022/df_2022.xlsx', sheet_name='promedio_dimensiones', index_col='token')"
   ]
  },
  {
   "cell_type": "code",
   "execution_count": 31,
   "metadata": {},
   "outputs": [],
   "source": [
    "df_2022 = pd.merge(df_par, df_res, left_index=True, right_index=True)\n",
    "df_2022 = tri_count(df_2022, dict_dims.keys(), dict_items.keys())\n",
    "\n",
    "# df.to_excel('data/df.xlsx', sheet_name='data')\n",
    "# df = pd.read_excel(\"data/df.xlsx\", index_col=0)"
   ]
  },
  {
   "cell_type": "code",
   "execution_count": 32,
   "metadata": {},
   "outputs": [],
   "source": [
    "df_2021 = pd.read_excel(\"data/2021/df.xlsx\")"
   ]
  },
  {
   "attachments": {},
   "cell_type": "markdown",
   "metadata": {},
   "source": [
    "### __Definir orden y caracteristicas de los grupos__"
   ]
  },
  {
   "cell_type": "code",
   "execution_count": 33,
   "metadata": {},
   "outputs": [],
   "source": [
    "segs = [s for s in df_2022.columns if s[:3] == 'seg']"
   ]
  },
  {
   "cell_type": "code",
   "execution_count": 34,
   "metadata": {},
   "outputs": [],
   "source": [
    "dims = list(dict_dims.keys())\n",
    "dims_drop = ['PBD', 'CFZ', 'IDS', 'ENL', 'IDC', 'SAT']\n",
    "dims_glob = [d for d in dims if d not in dims_drop]\n",
    "dims_org = ['AMF', 'APO', 'BNF', 'REM', 'COM', 'COO', 'TVP', 'STB', 'PRO', 'CFZ', 'PBD'] # las 2 últimas son \n",
    "dims_loc = ['AMI', 'ALS', 'CDT', 'CLA', 'DEI', 'EQI', 'LID', 'ORG', 'REC']               # exclusivas de Vitacura... en qué análisis se consideran?\n",
    "dims_ind_res = ['IDS', 'ENL', 'IDC', 'SAT']"
   ]
  },
  {
   "cell_type": "code",
   "execution_count": 35,
   "metadata": {},
   "outputs": [
    {
     "name": "stdout",
     "output_type": "stream",
     "text": [
      "Cantidad: 65\t\tTasa de respuesta: 39%\t\tÁrea Salud\n",
      "Cantidad: 6\t\tTasa de respuesta: 60%\t\tDirección de Servicios de Salud, Educacion y demas incorporados a la gestion municipal\n",
      "Cantidad: 42\t\tTasa de respuesta: 38%\t\tDirección de Desarrollo Comunitario\n",
      "Cantidad: 5\t\tTasa de respuesta: 71%\t\tDirección de Asesoría Urbana\n",
      "Cantidad: 6\t\tTasa de respuesta: 55%\t\tAdministración Municipal\n",
      "Cantidad: 66\t\tTasa de respuesta: 34%\t\tColegio Antártica Chilena\n",
      "Cantidad: 5\t\tTasa de respuesta: 31%\t\tSubdirección de Administración\n",
      "Cantidad: 6\t\tTasa de respuesta: 86%\t\tDepartamento de Atención al Vecino\n",
      "Cantidad: 15\t\tTasa de respuesta: 37%\t\tDepartamento de Salud\n",
      "Cantidad: 38\t\tTasa de respuesta: 33%\t\tCESFAM\n",
      "Cantidad: 4\t\tTasa de respuesta: 24%\t\tSubdirección de Gestión y Recursos Internos\n",
      "Cantidad: 6\t\tTasa de respuesta: 86%\t\tSubdireccion de Aseo\n",
      "Cantidad: 12\t\tTasa de respuesta: 29%\t\tAsistentes Liceo\n",
      "Cantidad: 5\t\tTasa de respuesta: 42%\t\tDepartamento de Adquisiciones y Abastecimiento\n",
      "Cantidad: 6\t\tTasa de respuesta: 55%\t\tDepartamento de Patentes Comerciales\n",
      "Cantidad: 46\t\tTasa de respuesta: 35%\t\tProfesionales Colegio\n"
     ]
    }
   ],
   "source": [
    "areas = get_areas(df_2022, segs)\n",
    "areas_glob = [\"Global Vitacura\", \"Área Salud\", \"Área Municipalidad\", \"Área Educación\"]\n",
    "areas_not  = get_areas_not(df_asi, areas, disclaimer=True)\n",
    "areas_not.remove('Área Salud')"
   ]
  },
  {
   "attachments": {},
   "cell_type": "markdown",
   "metadata": {},
   "source": [
    "Áreas que no cumplieron los criterios antes"
   ]
  },
  {
   "cell_type": "code",
   "execution_count": 36,
   "metadata": {},
   "outputs": [],
   "source": [
    "areas_not_2021 = ['Alcaldía', 'Dirección de Asesoría Jurídica', 'Colegio Antártica Chilena', 'Administración Municipal', 'Dirección Innovación y Sustentabilidad', 'CESFAM - VITABOTICA', 'CESFAM - COSAM', 'Departamento Organizaciones Comunitarias', 'Asistentes de la Educación Colegio']"
   ]
  },
  {
   "cell_type": "code",
   "execution_count": 37,
   "metadata": {},
   "outputs": [],
   "source": [
    "areas_nuevas = ['Anfitriones del Parque', 'Departamento de Administración de Servicios', 'Departamento de Adquisiciones y Abastecimiento', 'Departamento de Educación', 'Departamento de Patentes Comerciales', 'Departamento de Permisos de Circulación', 'Departamento de Salud', 'Subdirección de Fiscalización, Emergencia y Seguridad Interna', 'Subdirección de Gestion y Recursos Internos']"
   ]
  },
  {
   "cell_type": "code",
   "execution_count": 38,
   "metadata": {},
   "outputs": [],
   "source": [
    "list_car1 = ['Masculino', 'Femenino']\n",
    "list_car4 = ['Administrativos', 'Auxiliares', 'Directivos', 'Jefaturas', 'Profesionales', 'Técnicos']\n",
    "list_car5 = ['Contrata', 'Estatuto', 'Honorarios', 'Indefinido Educación', 'Planta', 'Plazo Fijo', 'Titular']"
   ]
  },
  {
   "attachments": {},
   "cell_type": "markdown",
   "metadata": {},
   "source": [
    "##### __Se define el promedio de los resultados en apreciación positivas en cada una de las dimensiones en estudios anteriores realizados por MIDE__"
   ]
  },
  {
   "cell_type": "code",
   "execution_count": 39,
   "metadata": {},
   "outputs": [],
   "source": [
    "df_ant_pub = df_mide[df_mide['tipo'] == 'publica'].iloc[:,4:].copy()\n",
    "df_ant_prv = df_mide[df_mide['tipo'] == 'privada'].iloc[:,4:].copy()\n",
    "\n",
    "dict_ant_pub = np.mean(df_ant_pub, axis=0).to_dict()\n",
    "dict_ant_prv = np.mean(df_ant_prv, axis=0).to_dict()\n",
    "\n",
    "list_ant_prv = [v for i, v in dict_ant_prv.items() if i in dims_glob]\n",
    "list_ant_pub = [v for i, v in dict_ant_pub.items() if i in dims_glob]"
   ]
  },
  {
   "attachments": {},
   "cell_type": "markdown",
   "metadata": {},
   "source": [
    "__Crear los rangos de edad y antigüedad__"
   ]
  },
  {
   "cell_type": "code",
   "execution_count": 40,
   "metadata": {},
   "outputs": [],
   "source": [
    "# Edad\n",
    "age_bins = [-1, 30, 35, 40, 45, 50, 60, 85]\n",
    "list_car2 = [\"30 años o menos\", \"31-35\", \"36-40\", \"41-45\", \"46-50\", \"51-60\", \"61-85\"]\n",
    "df_2022[\"car_2\"] = pd.cut(df_2022['car_2'], age_bins, labels=list_car2)\n",
    "\n",
    "# Antigüedad\n",
    "ant_bins = [-1, 0, 5, 10, 20, 45]\n",
    "list_car3 = [\"Menos de 1 año\", \"1-5\", \"6-10\", \"11-20\", \"21 años o más\"]\n",
    "df_2022[\"car_3\"] = pd.cut(df_2022['car_3'], ant_bins, labels=list_car3)"
   ]
  },
  {
   "attachments": {},
   "cell_type": "markdown",
   "metadata": {},
   "source": [
    "__Crear los rangos de antigüedad__"
   ]
  },
  {
   "cell_type": "code",
   "execution_count": 41,
   "metadata": {},
   "outputs": [],
   "source": [
    "df_2022.to_excel(\"data/test.xlsx\")"
   ]
  },
  {
   "attachments": {},
   "cell_type": "markdown",
   "metadata": {},
   "source": [
    "### __Loop Maestro__"
   ]
  },
  {
   "cell_type": "code",
   "execution_count": 42,
   "metadata": {},
   "outputs": [
    {
     "name": "stdout",
     "output_type": "stream",
     "text": [
      "Global Vitacura\n",
      "Área Educación\n",
      "Área Salud\n",
      "Área Municipalidad\n",
      "Dirección de Servicios de Salud, Educacion y demas incorporados a la gestion municipal\n",
      "Dirección de Seguridad Pública\n",
      "Dirección de Administración y Finanzas\n",
      "Dirección de Desarrollo Comunitario\n",
      "Dirección de Comunicaciones, Asuntos Corporativos y Prensa\n",
      "Dirección de Tránsito y Transporte Público\n",
      "Dirección de Asesoría Jurídica\n",
      "Dirección de Obras Municipales\n",
      "Dirección de Personas\n",
      "SECPLA\n",
      "1er Juzgado de Policía Local\n",
      "Dirección Innovación y Sustentabilidad\n",
      "Dirección de Infraestructura Comunal\n",
      "Dirección de Informática\n",
      "Dirección de Asesoría Urbana\n",
      "Administración Municipal\n",
      "Dirección de Medio Ambiente, Aseo y Ornato\n",
      "2do Juzgado de Policía Local\n",
      "Secretaría Municipal\n",
      "Dirección de Control\n",
      "Colegio Antártica Chilena\n",
      "Liceo Amanda Labarca\n",
      "COSAM\n",
      "Departamento de Administración de Servicios\n",
      "Subdirección de Administración\n",
      "Departamento de Asistencia y Acción Social\n",
      "Departamento de Atención al Vecino\n",
      "Departamento de Educación\n",
      "Departamento de Licencias de Conducir\n",
      "Subdirección de Seguridad Pública\n",
      "Subdirección de Rentas Municipales\n",
      "Departamento de Salud\n",
      "Subdirección de Fiscalización, Emergencia y Seguridad Interna\n",
      "Subdirección de Finanzas\n",
      "Subdirección de Edificación\n",
      "Anfitriones del Parque\n",
      "CESFAM\n",
      "Subdirección de Tesorería Municipal\n",
      "Subdirección de Mantención de Inmuebles Municipales\n",
      "Subdireccion de Ornato\n",
      "Subdirección de Desarrollo Urbano\n",
      "Subdirección de Mantención de Bienes Nacionales de Uso Público\n",
      "Subdirección de Gestión y Recursos Internos\n",
      "Subdirección de Inspección de Obras\n",
      "Subdireccion de Aseo\n",
      "Asistentes Colegio\n",
      "Asistentes Liceo\n",
      "Departamento de Adquisiciones y Abastecimiento\n",
      "Departamento de Operaciones y Seguridad Ciudadana\n",
      "Departamento de Patentes Comerciales\n",
      "Departamento de Permisos de Circulación\n",
      "DSP. Departamento de Operaciones y Fiscalización\n",
      "Profesionales Colegio\n",
      "Profesionales Liceo\n"
     ]
    }
   ],
   "source": [
    "for i in segs:\n",
    "    for j in df_2022[i].unique():\n",
    "        if type(j) == str:\n",
    "            print(j)\n",
    "\n",
    "            if j not in areas_not:\n",
    "                df_sub_2022 = df_2022[df_2022[i] == j]\n",
    "\n",
    "                if (j in areas_not_2021) or (j in areas_nuevas):\n",
    "                    unico = True\n",
    "\n",
    "                else:\n",
    "                    if j == 'DSP. Departamento de Operaciones y Fiscalización':\n",
    "                        df_sub_2021 = df_2021[df_2021[i] == 'Departamento de Operaciones y Fiscalización']\n",
    "                    elif j == 'Dirección de Servicios de Salud, Educacion y demas incorporados a la gestion municipal':\n",
    "                        df_sub_2021 = df_2021[df_2021[i] == 'Dirección de Servicios de Salud, Educación y Demás']\n",
    "                    elif j == 'Subdirección de Seguridad Pública':\n",
    "                        df_sub_2021 = df_2021[df_2021[i] == 'Inspector-Motoristas']\n",
    "                    elif j == 'Subdireccion de Ornato' or j == 'Subdireccion de Aseo':\n",
    "                        df_sub_2021 = df_2021[df_2021[i] == 'Subdirección de Aseo y Ornato']\n",
    "                    elif j == 'Asistentes Colegio':\n",
    "                        df_sub_2021 = df_2021[df_2021[i] == 'Asistentes de la Educación Colegio']\n",
    "                    elif j == 'Asistentes Liceo':\n",
    "                        df_sub_2021 = df_2021[df_2021[i] == 'Asistentes de la Educación Liceo']\n",
    "                    elif j == 'Departamento de Operaciones y Seguridad Ciudadana':\n",
    "                        df_sub_2021 = df_2021[df_2021[i] == 'Subdirección de Operaciones']\n",
    "                    elif j == 'COSAM':\n",
    "                        df_sub_2021 = df_2021[df_2021[i] == 'CESFAM - COSAM']\n",
    "                    elif j == 'DSP. Departamento de Operaciones y Fiscalización':\n",
    "                        df_sub_2021 = df_2021[df_2021[i] == 'Departamento de Operaciones y Fiscalización']\n",
    "                    else:\n",
    "                        df_sub_2021 = df_2021[df_2021[i] == j]\n",
    "                    unico = False\n",
    "\n",
    "                # Segmentos y áreas previas y siguientes\n",
    "                nxt_seg, sub_areas = nxt(df_sub_2022, i)\n",
    "                ant_seg, sob_area  = ant(df_sub_2022, i)\n",
    "\n",
    "                if j in ['Asistentes Colegio', 'Asistentes Liceo', 'Colegio Antártica Chilena', 'Liceo Amanda Labarca','Departamento de Educación']:\n",
    "                    ant_seg, sob_area  = 'seg_2', 'Área Educación'\n",
    "                elif j in ['CESFAM', 'COSAM', 'Departamento de Salud']:\n",
    "                    ant_seg, sob_area  = 'seg_2', 'Área Salud'\n",
    "\n",
    "                data_2022 = {\n",
    "                    '<area>': j,\n",
    "                    '<asi_all>': str(df_asi.loc[j][0]),\n",
    "                    '<asi_yes>': str(df_asi.loc[j][1]),\n",
    "                    '<asi_not>': str(df_asi.loc[j][0] - df_asi.loc[j][1]),\n",
    "\n",
    "                    '<area_str10_pos>': str(round_int(get_per_dims(df_sub_2022, dims=dims_glob, signo='pos', promedio=True)*10)),\n",
    "                    '<idc_str_pos>': get_per_dims(df_sub_2022, dims=['IDC'], signo='pos', promedio=True, string=True),\n",
    "                    '<idc_pos>':     get_per_dims(df_sub_2022, dims=['IDC'], signo='pos', promedio=True),\n",
    "                    '<enl_str_pos>': get_per_dims(df_sub_2022, dims=['ENL'], signo='pos', promedio=True, string=True),\n",
    "                    '<enl_pos>':     get_per_dims(df_sub_2022, dims=['ENL'], signo='pos', promedio=True),\n",
    "                    '<sat_str_pos>': get_per_dims(df_sub_2022, dims=['SAT'], signo='pos', promedio=True, string=True),\n",
    "                    '<sat_pos>':     get_per_dims(df_sub_2022, dims=['SAT'], signo='pos', promedio=True),\n",
    "                    '<ids_pos>': get_per_dims(df_sub_2022, dims=['IDS'], signo='neg'),    # Invertido\n",
    "                    '<ids_neu>': get_per_dims(df_sub_2022, dims=['IDS'], signo='neu'),\n",
    "                    '<ids_neg>': get_per_dims(df_sub_2022, dims=['IDS'], signo='pos'),    # Invertido\n",
    "                    '<sob_area>': sob_area,\n",
    "                    '<sob_area_list_pos>': get_per_dims(df_2022[df_2022[ant_seg] == sob_area], dims_glob, signo='pos')\n",
    "                }\n",
    "\n",
    "                for s in ['pos', 'neu', 'neg']:\n",
    "                    data_2022[f'<all_{s}>'] =  get_per_dims(df_sub_2022, dims, signo=s)\n",
    "                    data_2022[f'<glob_{s}>'] =      get_per_dims(df_2022, dims_glob, signo=s, promedio=True)\n",
    "                    data_2022[f'<glob_str_{s}>'] =  get_per_dims(df_2022, dims_glob, signo=s, promedio=True, string=True)\n",
    "                    data_2022[f'<glob_list_{s}>'] = get_per_dims(df_2022, dims_glob, signo=s)\n",
    "\n",
    "                    data_2022[f'<area_{s}>'] =  get_per_dims(df_sub_2022, dims_glob, signo=s, promedio=True)\n",
    "                    data_2022[f'<area_str_{s}>'] =  get_per_dims(df_sub_2022, dims_glob, signo=s, promedio=True, string=True)\n",
    "                    data_2022[f'<area_list_{s}>'] = get_per_dims(df_sub_2022, dims_glob, signo=s)\n",
    "\n",
    "                    data_2022[f'<sob_area_{s}>'] =  get_per_dims(df_2022[df_2022[ant_seg] == sob_area], dims_glob, signo=s, promedio=True)\n",
    "\n",
    "                    data_2022[f'<pbd_list_{s}>'] =  get_per_dims(df_sub_2022, dims=['PBD'], signo=s)\n",
    "                    data_2022[f'<pbd_item_{s}>'] =  get_pts_items(df_sub_2022, dim='pbd', signo=s)\n",
    "                    data_2022[f'<cfz_list_{s}>'] =  get_per_dims(df_sub_2022, dims=['CFZ'], signo=s)\n",
    "                    data_2022[f'<cfz_item_{s}>'] =  get_pts_items(df_sub_2022, dim='cfz', signo=s)\n",
    "\n",
    "                if unico == False:\n",
    "                    data_2021 = {\n",
    "                        '<area_pos>': get_per_dims(df_sub_2021, dims_glob, signo='pos', promedio=True),\n",
    "                        '<area_neu>': get_per_dims(df_sub_2021, dims_glob, signo='neu', promedio=True),\n",
    "                        '<area_neg>': get_per_dims(df_sub_2021, dims_glob, signo='neg', promedio=True),\n",
    "                        '<area_list_pos>': get_per_dims(df_sub_2021, dims_glob, signo='pos'),\n",
    "\n",
    "                        '<enl_pos>':  get_per_dims(df_sub_2021, dims=['ENL'], signo='pos', promedio=True),\n",
    "                        '<idc_pos>':  get_per_dims(df_sub_2021, dims=['IDC'], signo='pos', promedio=True),\n",
    "                        '<sat_pos>':  get_per_dims(df_sub_2021, dims=['SAT'], signo='pos', promedio=True)\n",
    "                    }\n",
    "\n",
    "                \n",
    "                # RANKING ITEMS\n",
    "                top_items_org_pos = top_items(df=df_sub_2022, dict_items=dict_items, dims=dims_org, signo='pos')\n",
    "                top_items_loc_pos = top_items(df=df_sub_2022, dict_items=dict_items, dims=dims_loc, signo='pos')\n",
    "\n",
    "                top_items_org_neu = top_items(df=df_sub_2022, dict_items=dict_items, dims=dims_org, signo='neu')\n",
    "                top_items_loc_neu = top_items(df=df_sub_2022, dict_items=dict_items, dims=dims_loc, signo='neu')\n",
    "\n",
    "                top_items_org_neg = top_items(df=df_sub_2022, dict_items=dict_items, dims=dims_org, signo='neg')\n",
    "                top_items_loc_neg = top_items(df=df_sub_2022, dict_items=dict_items, dims=dims_loc, signo='neg')\n",
    "\n",
    "\n",
    "                # IMPORTANCIA RELATIVA\n",
    "                dict_dims_per_pos = dict(zip(dims, data_2022['<all_pos>']))\n",
    "\n",
    "                # CONCLUSIONES\n",
    "                conclusiones(data=data_2022, dims_glob=dims_glob)\n",
    "\n",
    "\n",
    "                prs = Presentation('ppts/template.pptx')\n",
    "\n",
    "                # DIAPO 1\n",
    "                diapo_replace_txt(prs, data_2022, nro_slide=1, txts=['<area>'])\n",
    "                # DIAPO 15\n",
    "                diapo_replace_txt(prs, data_2022, nro_slide=15, txts=['<area>', '<asi_all>', '<asi_yes>', '<asi_not>'])\n",
    "                diapo_dotacion(prs, data_2022, nro_slide=15, nro_shape=5)\n",
    "                # DIAPO 16\n",
    "                diapo_replace_txt(prs, data_2022, nro_slide=16, txts=['<area>', '<area_str10_pos>'])\n",
    "                diapo_pie(prs, data_2022, nro_slide=16, nro_shape=3, key='area')\n",
    "                # DIAPO 17\n",
    "                if j != 'Global Vitacura':\n",
    "                    diapo_comp_bars(prs, data1=data_2022, data2=data_2022, nro_slide=17, nro_shape=1, key=['sob_area', 'area'], series=['Área', 'Área madre'])\n",
    "                    txt_replace(prs, data_2022, nro_slide=17, nro_shape=0, txt='<sob_area>')\n",
    "                    txt_replace(prs, data_2022, nro_slide=17, nro_shape=4, txt='<sob_area>')\n",
    "                    txt_replace(prs, data_2022, nro_slide=17, nro_shape=5, txt='<area>')\n",
    "                # DIAPO 18\n",
    "                if unico == False:\n",
    "                    diapo_comp_bars(prs, data1=data_2021, data2=data_2022, nro_slide=18, nro_shape=0, key=['area', 'area'], series=['Área', 'Resultados 2021'])\n",
    "                    txt_replace(prs, data_2022, nro_slide=18, nro_shape=3, txt='<area>')\n",
    "                    txt_replace(prs, data_2022, nro_slide=18, nro_shape=4, txt='<area>')\n",
    "\n",
    "                #DIAPO 19\n",
    "                diapo_dims(prs, data_2022, nro_slide=19, nro_shape=1, dims=dims_glob, key='area_list', signo='pos', comp=data_2022['<area_pos>'])\n",
    "                diapo_replace_txt(prs, data_2022, nro_slide=19, txts=['<area_str_pos>'])\n",
    "                # DIAPO 20\n",
    "                diapo_dims(prs, data_2022, nro_slide=20, nro_shape=4, dims=dims_glob, key='area_list')\n",
    "                # DIAPO 21\n",
    "                if j == 'Global Vitacura':\n",
    "                    data_2022['<comp_20>'] = \"Comparación de resultados con el año anterior\"\n",
    "                    diapo_dims(prs, data_2022, nro_slide=21, nro_shape=1, dims=dims_glob, key='area_list', signo='pos', comp=data_2021['<area_list_pos>'], str_comp='Vitacura 2021')\n",
    "                else:\n",
    "                    data_2022['<comp_20>'] = \"Comparación dimensiones\\nporcentajes de apreciación positiva\"\n",
    "                    diapo_dims(prs, data_2022, nro_slide=21, nro_shape=1, dims=dims_glob, key='area_list', signo='pos', comp=data_2022['<sob_area_list_pos>'], str_comp=sob_area, comp2=data_2021['<area_list_pos>'], str_comp2=f\"{data_2022['<area>']} 2021\")\n",
    "                diapo_replace_txt(prs, data_2022, nro_slide=21, txts=['<comp_20>'])\n",
    "                # DIAPO 22\n",
    "                diapo_dims(prs, data_2022, nro_slide=22, nro_shape=2, dims=dims_glob, key='area_list', signo='pos', comp=list_ant_pub, str_comp='Sector Público', comp2=list_ant_prv, str_comp2='Sector Privado')\n",
    "                # DIAPO 23\n",
    "                diapo_dims(prs, data_2022, nro_slide=23, nro_shape=4, dims=['Intención de Salida'], key='ids')\n",
    "                # DIAPO 24\n",
    "                diapo_replace_txt(prs, data_2022, nro_slide=24, txts=['<enl_str_pos>', '<idc_str_pos>', '<sat_str_pos>'])\n",
    "                # DIAPO 25\n",
    "                if unico == False:\n",
    "                    diapo_dims_ent_com_sat(prs,data1=data_2021, data2=data_2022, nro_slide=25, nro_shape=5, dims=['Entusiasmo laboral', 'Compromiso organizacional', 'Satisfacción laboral'], signo='pos')\n",
    "\n",
    "                # DIAPO 26\n",
    "                diapo_dims(prs, data_2022, nro_slide=26, nro_shape=3, dims=['Providad'], key='pbd_list')\n",
    "                diapo_items(prs, data_2022, nro_slide=26, nro_shape=2, dict_items=dict_items, item='pbd')\n",
    "                # DIAPO 27\n",
    "                diapo_dims(prs, data_2022, nro_slide=27, nro_shape=3, dims=['Confianza'], key='cfz_list')\n",
    "                diapo_items(prs, data_2022, nro_slide=27, nro_shape=2, dict_items=dict_items, item='cfz')\n",
    "\n",
    "                if len(sub_areas) > 1:\n",
    "                    # DIAPO 30\n",
    "                    diapo_area(prs, df=df_sub_2022, dims=dims_glob, nro_slide=30, nro_shape=1, nxt_seg=nxt_seg, sub_areas=sub_areas, areas_not=areas_not)\n",
    "                    # DIAPO 31\n",
    "                    diapo_tabla(prs=prs, df=df_sub_2022, dims=dims_glob, nro_slide=31, nro_shape=0, titulo=j, nxt_seg=nxt_seg, sub_areas=sub_areas, areas_not=areas_not)\n",
    "                \n",
    "                if j in areas_glob:\n",
    "                    # DIAPO 32\n",
    "                    diapo_car(prs, df=df_sub_2022, nro_car=1, dims=dims_glob, nro_slide=32, nro_shape=1, orden=list_car1)\n",
    "                    # DIAPO 33\n",
    "                    diapo_tabla(prs=prs, df=df_sub_2022, nro_slide=33, nro_shape=1, titulo=j, dims=dims_glob, nro_car=1, orden=list_car1)\n",
    "                    # DIAPO 34\n",
    "                    diapo_car(prs, df=df_sub_2022, nro_car=2, dims=dims_glob, nro_slide=34, nro_shape=1, orden=list_car2)\n",
    "                    # DIAPO 35\n",
    "                    diapo_tabla(prs=prs, df=df_sub_2022, nro_slide=35, nro_shape=1, titulo=j, dims=dims_glob, nro_car=2, orden=list_car2)\n",
    "                    # DIAPO 36\n",
    "                    diapo_car(prs, df=df_sub_2022, nro_car=4, dims=dims_glob, nro_slide=36, nro_shape=1)\n",
    "                    # DIAPO 37\n",
    "                    diapo_tabla(prs=prs, df=df_sub_2022, nro_slide=37, nro_shape=1, titulo=j, dims=dims_glob, nro_car=4)\n",
    "                    # DIAPO 38\n",
    "                    diapo_car(prs, df=df_sub_2022, nro_car=3, dims=dims_glob, nro_slide=38, nro_shape=1, orden=list_car3)\n",
    "                    # DIAPO 39\n",
    "                    diapo_tabla(prs=prs, df=df_sub_2022, nro_slide=39, nro_shape=1, titulo=j, dims=dims_glob, nro_car=3, orden=list_car3)\n",
    "                    # DIAPO 40\n",
    "                    diapo_car(prs, df=df_sub_2022, nro_car=5, dims=dims_glob, nro_slide=40, nro_shape=1)\n",
    "                    # DIAPO 41\n",
    "                    diapo_tabla(prs=prs, df=df_sub_2022, nro_slide=41, nro_shape=1, titulo=j, dims=dims_glob, nro_car=5)\n",
    "                    # DIAPO 42\n",
    "                    diapo_car(prs, df=df_sub_2022, nro_car=5, dims=dims_glob, nro_slide=42, nro_shape=1)\n",
    "                    # DIAPO 43\n",
    "                    diapo_tabla(prs=prs, df=df_sub_2022, nro_slide=43, nro_shape=1, titulo=j, dims=dims_glob, nro_car=5)\n",
    "                \n",
    "                # DIAPO 46\n",
    "                diapo_rank(prs, nro_slide=46, nro_shape=3, tops=top_items_org_pos, dict_items=dict_items)\n",
    "                diapo_rank(prs, nro_slide=46, nro_shape=4, tops=top_items_loc_pos, dict_items=dict_items)\n",
    "                lineas_ap_glob(prs, nro_slide=46, apr_glob=data_2022['<glob_pos>'])\n",
    "\n",
    "                # DIAPO 47\n",
    "                diapo_rank(prs, nro_slide=47, nro_shape=3, tops=top_items_org_neu, dict_items=dict_items)\n",
    "                diapo_rank(prs, nro_slide=47, nro_shape=4, tops=top_items_loc_neu, dict_items=dict_items)\n",
    "                lineas_ap_glob(prs, nro_slide=47, apr_glob=data_2022['<glob_neu>'])\n",
    "\n",
    "                # DIAPO 48\n",
    "                diapo_rank(prs, nro_slide=48, nro_shape=3, tops=top_items_org_neg, dict_items=dict_items)\n",
    "                diapo_rank(prs, nro_slide=48, nro_shape=4, tops=top_items_loc_neg, dict_items=dict_items)\n",
    "                lineas_ap_glob(prs, nro_slide=48, apr_glob=data_2022['<glob_neg>'])\n",
    "\n",
    "                # DIAPO 50\n",
    "                diapo_ir_txt(prs, nro_slide=50, nro_shape=2, all_dims=dict_dims_per_pos, tops=dict_ir(df_sub_2022, df_imp, dims_org), glob_mean=data_2022['<area_pos>'])\n",
    "                diapo_ir_txt(prs, nro_slide=50, nro_shape=3, all_dims=dict_dims_per_pos, tops=dict_ir(df_sub_2022, df_imp, dims_loc), glob_mean=data_2022['<area_pos>'])\n",
    "                txt_replace(prs, data_2022, nro_slide=50, nro_shape=4, txt='<area_str_pos>')\n",
    "\n",
    "                # DIAPO 64\n",
    "                diapo_replace_txt(prs, data_2022, nro_slide=64, txts=['<dim_pos1>', '<txt_pos1>', '<per_pos1>', '<dim_pos2>', '<txt_pos2>', '<per_pos2>'])\n",
    "                # DIAPO 65\n",
    "                diapo_replace_txt(prs, data_2022, nro_slide=65, txts=['<dim_neg1>', '<txt_neg1>', '<per_neg1>', '<dim_neg2>', '<txt_neg2>', '<per_neg2>'])\n",
    "                # DIAPO 67\n",
    "                diapo_dims(prs, data_2022, nro_slide=67, nro_shape=1, dims=dims_glob, key='area_list', signo='pos')\n",
    "                # DIAPO 69\n",
    "                diapo_replace_txt(prs, data_2022, nro_slide=69, txts=['<area>'])\n",
    "\n",
    "\n",
    "                # Eliminación de diapositivas\n",
    "                del_diapo(prs, area=j, areas_glob=areas_glob, sub_areas=sub_areas, unico=unico)\n",
    "    \n",
    "\n",
    "                # Guardar\n",
    "                prs.save(f\"ppts/autorreportes/{j}.pptx\")"
   ]
  },
  {
   "attachments": {},
   "cell_type": "markdown",
   "metadata": {},
   "source": [
    "## __Cálculo de correlaciones__"
   ]
  },
  {
   "cell_type": "code",
   "execution_count": 43,
   "metadata": {},
   "outputs": [],
   "source": [
    "# matrix = cor_mtx(df_dims_mean, dims=dims_ind_res)\n",
    "# x = dict_cor_ppt(matrix, dims=dims_ind_res)\n",
    "\n",
    "# prs = Presentation('ppts/template.pptx')\n",
    "\n",
    "# diapo_cor(prs, nro_slide=54, dict_cor=x)\n",
    "\n",
    "# prs.save(\"ppts/autorreportes/test.pptx\")"
   ]
  },
  {
   "cell_type": "markdown",
   "metadata": {},
   "source": [
    "#### __Revisor de Contenido__"
   ]
  },
  {
   "cell_type": "code",
   "execution_count": 44,
   "metadata": {},
   "outputs": [
    {
     "name": "stdout",
     "output_type": "stream",
     "text": [
      "0 <pptx.shapes.picture.Picture object at 0x00000134E84EED90>\n",
      "1 <area>\n",
      "2 Estudio de Clima Organizacional  Municipalidad de Vitacura 2022\n",
      "3 <pptx.shapes.picture.Picture object at 0x00000134E7B3CD90>\n",
      "4 <pptx.shapes.picture.Picture object at 0x00000134E84EED90>\n",
      "5 <pptx.shapes.connector.Connector object at 0x00000134E73047D0>\n",
      "6 <pptx.shapes.picture.Picture object at 0x00000134E84EED90>\n",
      "7 <pptx.shapes.picture.Picture object at 0x00000134E73047D0>\n"
     ]
    }
   ],
   "source": [
    "prs = Presentation('ppts/template.pptx')\n",
    "check_diapo(prs, nro_slide=1, print_text=True)"
   ]
  },
  {
   "cell_type": "markdown",
   "metadata": {},
   "source": [
    "## __Cajón de Arena__"
   ]
  },
  {
   "cell_type": "markdown",
   "metadata": {},
   "source": [
    "#### __Test__"
   ]
  },
  {
   "cell_type": "code",
   "execution_count": 45,
   "metadata": {},
   "outputs": [],
   "source": [
    "# prs = Presentation('ppts/template.pptx')\n",
    "# diapo_cor(prs, nro_slide=54, dict_cor=x)\n",
    "# prs.save(\"ppts/autorreportes/test.pptx\")"
   ]
  }
 ],
 "metadata": {
  "kernelspec": {
   "display_name": "Python 3",
   "language": "python",
   "name": "python3"
  },
  "language_info": {
   "codemirror_mode": {
    "name": "ipython",
    "version": 3
   },
   "file_extension": ".py",
   "mimetype": "text/x-python",
   "name": "python",
   "nbconvert_exporter": "python",
   "pygments_lexer": "ipython3",
   "version": "3.11.1"
  },
  "orig_nbformat": 4,
  "vscode": {
   "interpreter": {
    "hash": "9da8354831a1a76e7385765622e29197f528ad38b7148e1cd7d6cac41aa942b5"
   }
  }
 },
 "nbformat": 4,
 "nbformat_minor": 2
}
